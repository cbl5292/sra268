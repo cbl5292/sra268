{
  "nbformat": 4,
  "nbformat_minor": 0,
  "metadata": {
    "colab": {
      "name": "268StartingNotebook",
      "provenance": [],
      "authorship_tag": "ABX9TyN/fCvd2AD7KAmQ/jTulcl2",
      "include_colab_link": true
    },
    "kernelspec": {
      "name": "python3",
      "display_name": "Python 3"
    }
  },
  "cells": [
    {
      "cell_type": "markdown",
      "metadata": {
        "id": "view-in-github",
        "colab_type": "text"
      },
      "source": [
        "<a href=\"https://colab.research.google.com/github/cbl5292/sra268/blob/master/268StartingNotebook.ipynb\" target=\"_parent\"><img src=\"https://colab.research.google.com/assets/colab-badge.svg\" alt=\"Open In Colab\"/></a>"
      ]
    },
    {
      "cell_type": "code",
      "metadata": {
        "id": "w1Hpk5Y62YoA",
        "colab_type": "code",
        "colab": {}
      },
      "source": [
        "#project1\n",
        "#briefoutlin"
      ],
      "execution_count": 0,
      "outputs": []
    },
    {
      "cell_type": "markdown",
      "metadata": {
        "id": "LaaoW6Zx5040",
        "colab_type": "text"
      },
      "source": [
        "# Abstract"
      ]
    },
    {
      "cell_type": "markdown",
      "metadata": {
        "id": "uhVBuVp353WB",
        "colab_type": "text"
      },
      "source": [
        "something in the abstract"
      ]
    },
    {
      "cell_type": "markdown",
      "metadata": {
        "id": "NagytzGT56GQ",
        "colab_type": "text"
      },
      "source": [
        "# Introduction"
      ]
    },
    {
      "cell_type": "markdown",
      "metadata": {
        "id": "pCvcC6U557px",
        "colab_type": "text"
      },
      "source": [
        "![alt text](https://raw.githubusercontent.com/dudaspm/SRA268-Spring2020/master/images/mario.jpg)"
      ]
    },
    {
      "cell_type": "markdown",
      "metadata": {
        "id": "crvjGUYr6rOc",
        "colab_type": "text"
      },
      "source": [
        ""
      ]
    },
    {
      "cell_type": "markdown",
      "metadata": {
        "id": "Vu5Dvoyc5tsu",
        "colab_type": "text"
      },
      "source": [
        ""
      ]
    }
  ]
}